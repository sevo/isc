{
 "cells": [
  {
   "cell_type": "code",
   "execution_count": 106,
   "metadata": {
    "collapsed": false
   },
   "outputs": [],
   "source": [
    "import pandas as pd\n",
    "import datetime\n",
    "from datetime import timedelta\n",
    "import glob\n",
    "%matplotlib inline"
   ]
  },
  {
   "cell_type": "code",
   "execution_count": 101,
   "metadata": {
    "collapsed": true
   },
   "outputs": [],
   "source": [
    "#data = pd.read_csv('../belgicko/ELIA_LOAD_2009.csv', sep=';', skiprows=0, header=1)\n",
    "data = pd.read_csv('../belgicko/elia_load_2005.csv', sep=';', skiprows=0, header=1)"
   ]
  },
  {
   "cell_type": "code",
   "execution_count": 102,
   "metadata": {
    "collapsed": false
   },
   "outputs": [
    {
     "data": {
      "text/html": [
       "<div>\n",
       "<table border=\"1\" class=\"dataframe\">\n",
       "  <thead>\n",
       "    <tr style=\"text-align: right;\">\n",
       "      <th></th>\n",
       "      <th>dd</th>\n",
       "      <th>mm</th>\n",
       "      <th>yyyy</th>\n",
       "      <th>0:15</th>\n",
       "      <th>0:30</th>\n",
       "      <th>0:45</th>\n",
       "      <th>1:00</th>\n",
       "      <th>1:15</th>\n",
       "      <th>1:30</th>\n",
       "      <th>1:45</th>\n",
       "      <th>...</th>\n",
       "      <th>23:00</th>\n",
       "      <th>23:15</th>\n",
       "      <th>23:30</th>\n",
       "      <th>23:45</th>\n",
       "      <th>24:00</th>\n",
       "      <th>2:15\"</th>\n",
       "      <th>2:30\"</th>\n",
       "      <th>2:45\"</th>\n",
       "      <th>3:00\"</th>\n",
       "      <th>Unnamed: 103</th>\n",
       "    </tr>\n",
       "  </thead>\n",
       "  <tbody>\n",
       "    <tr>\n",
       "      <th>0</th>\n",
       "      <td>1</td>\n",
       "      <td>1</td>\n",
       "      <td>2005</td>\n",
       "      <td>9503607,000</td>\n",
       "      <td>9357379,000</td>\n",
       "      <td>9181671,000</td>\n",
       "      <td>9067683,000</td>\n",
       "      <td>9007000,000</td>\n",
       "      <td>8802320,000</td>\n",
       "      <td>8785999,000</td>\n",
       "      <td>...</td>\n",
       "      <td>9272292,000</td>\n",
       "      <td>9426801,000</td>\n",
       "      <td>9275737,000</td>\n",
       "      <td>9210591,000</td>\n",
       "      <td>8978047,000</td>\n",
       "      <td>0,000</td>\n",
       "      <td>0,000</td>\n",
       "      <td>0,000</td>\n",
       "      <td>0,000</td>\n",
       "      <td>NaN</td>\n",
       "    </tr>\n",
       "  </tbody>\n",
       "</table>\n",
       "<p>1 rows × 104 columns</p>\n",
       "</div>"
      ],
      "text/plain": [
       "   dd  mm  yyyy  0:15             0:30             0:45             \\\n",
       "0   1   1  2005   9503607,000      9357379,000      9181671,000      \n",
       "\n",
       "   1:00             1:15             1:30             1:45             \\\n",
       "0   9067683,000      9007000,000      8802320,000      8785999,000      \n",
       "\n",
       "      ...       23:00            23:15            23:30            \\\n",
       "0     ...        9272292,000      9426801,000      9275737,000      \n",
       "\n",
       "   23:45            24:00            2:15\"            2:30\"            \\\n",
       "0   9210591,000      8978047,000            0,000            0,000      \n",
       "\n",
       "   2:45\"            3:00\"           Unnamed: 103  \n",
       "0         0,000            0,000             NaN  \n",
       "\n",
       "[1 rows x 104 columns]"
      ]
     },
     "execution_count": 102,
     "metadata": {},
     "output_type": "execute_result"
    }
   ],
   "source": [
    "data.head(1)"
   ]
  },
  {
   "cell_type": "code",
   "execution_count": 103,
   "metadata": {
    "collapsed": false
   },
   "outputs": [
    {
     "data": {
      "text/plain": [
       "Index([u'0:15           ', u'0:30           ', u'0:45           ',\n",
       "       u'1:00           ', u'1:15           ', u'1:30           ',\n",
       "       u'1:45           ', u'2:00           ', u'2:15           ',\n",
       "       u'2:30           ', u'2:45           ', u'3:00           ',\n",
       "       u'3:15           ', u'3:30           ', u'3:45           ',\n",
       "       u'4:00           ', u'4:15           ', u'4:30           ',\n",
       "       u'4:45           ', u'5:00           ', u'5:15           ',\n",
       "       u'5:30           ', u'5:45           ', u'6:00           ',\n",
       "       u'6:15           ', u'6:30           ', u'6:45           ',\n",
       "       u'7:00           ', u'7:15           ', u'7:30           ',\n",
       "       u'7:45           ', u'8:00           ', u'8:15           ',\n",
       "       u'8:30           ', u'8:45           ', u'9:00           ',\n",
       "       u'9:15           ', u'9:30           ', u'9:45           ',\n",
       "       u'10:00          ', u'10:15          ', u'10:30          ',\n",
       "       u'10:45          ', u'11:00          ', u'11:15          ',\n",
       "       u'11:30          ', u'11:45          ', u'12:00          ',\n",
       "       u'12:15          ', u'12:30          ', u'12:45          ',\n",
       "       u'13:00          ', u'13:15          ', u'13:30          ',\n",
       "       u'13:45          ', u'14:00          ', u'14:15          ',\n",
       "       u'14:30          ', u'14:45          ', u'15:00          ',\n",
       "       u'15:15          ', u'15:30          ', u'15:45          ',\n",
       "       u'16:00          ', u'16:15          ', u'16:30          ',\n",
       "       u'16:45          ', u'17:00          ', u'17:15          ',\n",
       "       u'17:30          ', u'17:45          ', u'18:00          ',\n",
       "       u'18:15          ', u'18:30          ', u'18:45          ',\n",
       "       u'19:00          ', u'19:15          ', u'19:30          ',\n",
       "       u'19:45          ', u'20:00          ', u'20:15          ',\n",
       "       u'20:30          ', u'20:45          ', u'21:00          ',\n",
       "       u'21:15          ', u'21:30          ', u'21:45          ',\n",
       "       u'22:00          ', u'22:15          ', u'22:30          ',\n",
       "       u'22:45          ', u'23:00          ', u'23:15          ',\n",
       "       u'23:30          ', u'23:45          ', u'24:00          '],\n",
       "      dtype='object')"
      ]
     },
     "execution_count": 103,
     "metadata": {},
     "output_type": "execute_result"
    }
   ],
   "source": [
    "data.head(1).keys()[3:-5]"
   ]
  },
  {
   "cell_type": "code",
   "execution_count": 104,
   "metadata": {
    "collapsed": false
   },
   "outputs": [
    {
     "data": {
      "text/html": [
       "<div>\n",
       "<table border=\"1\" class=\"dataframe\">\n",
       "  <thead>\n",
       "    <tr style=\"text-align: right;\">\n",
       "      <th></th>\n",
       "      <th>date</th>\n",
       "      <th>value</th>\n",
       "    </tr>\n",
       "    <tr>\n",
       "      <th>date</th>\n",
       "      <th></th>\n",
       "      <th></th>\n",
       "    </tr>\n",
       "  </thead>\n",
       "  <tbody>\n",
       "    <tr>\n",
       "      <th>2005-01-01 00:15:00</th>\n",
       "      <td>2005-01-01 00:15:00</td>\n",
       "      <td>9503607</td>\n",
       "    </tr>\n",
       "    <tr>\n",
       "      <th>2005-01-01 00:30:00</th>\n",
       "      <td>2005-01-01 00:30:00</td>\n",
       "      <td>9357379</td>\n",
       "    </tr>\n",
       "    <tr>\n",
       "      <th>2005-01-01 00:45:00</th>\n",
       "      <td>2005-01-01 00:45:00</td>\n",
       "      <td>9181671</td>\n",
       "    </tr>\n",
       "    <tr>\n",
       "      <th>2005-01-01 01:00:00</th>\n",
       "      <td>2005-01-01 01:00:00</td>\n",
       "      <td>9067683</td>\n",
       "    </tr>\n",
       "    <tr>\n",
       "      <th>2005-01-01 01:15:00</th>\n",
       "      <td>2005-01-01 01:15:00</td>\n",
       "      <td>9007000</td>\n",
       "    </tr>\n",
       "  </tbody>\n",
       "</table>\n",
       "</div>"
      ],
      "text/plain": [
       "                                   date    value\n",
       "date                                            \n",
       "2005-01-01 00:15:00 2005-01-01 00:15:00  9503607\n",
       "2005-01-01 00:30:00 2005-01-01 00:30:00  9357379\n",
       "2005-01-01 00:45:00 2005-01-01 00:45:00  9181671\n",
       "2005-01-01 01:00:00 2005-01-01 01:00:00  9067683\n",
       "2005-01-01 01:15:00 2005-01-01 01:15:00  9007000"
      ]
     },
     "execution_count": 104,
     "metadata": {},
     "output_type": "execute_result"
    }
   ],
   "source": [
    "def process_key(row, key):\n",
    "    hours, mins = [int(part.strip('\"')) for part in key.split(':')]\n",
    "    if hours == 24:\n",
    "        return datetime.datetime(row.yyyy, row.mm, row.dd, 0, mins) + timedelta(days=1)\n",
    "    else:\n",
    "        return datetime.datetime(row.yyyy, row.mm, row.dd, hours, mins)\n",
    "\n",
    "df = pd.DataFrame(columns=['date', 'value'])\n",
    "prev_value = 0\n",
    "for row_index, row in data.iterrows():\n",
    "    for key in row.keys()[3:-5]:\n",
    "        date = process_key(row, key)\n",
    "        try:\n",
    "            value = float(row[key].replace(',','.'))\n",
    "            prev_value = value\n",
    "        except ValueError:\n",
    "            value = prev_value #aby mi nevznikali diery, tak nespravne sparsovane hodnoty nahradim predchadajucou hodnotou        \n",
    "        new_row = pd.Series([date, value], index=['date', 'value'])\n",
    "        df = df.append(new_row, ignore_index=True)\n",
    "df.index = df.date\n",
    "df.head()"
   ]
  },
  {
   "cell_type": "code",
   "execution_count": 108,
   "metadata": {
    "collapsed": false
   },
   "outputs": [
    {
     "data": {
      "text/html": [
       "<div>\n",
       "<table border=\"1\" class=\"dataframe\">\n",
       "  <thead>\n",
       "    <tr style=\"text-align: right;\">\n",
       "      <th></th>\n",
       "      <th>date</th>\n",
       "      <th>value</th>\n",
       "    </tr>\n",
       "    <tr>\n",
       "      <th>date</th>\n",
       "      <th></th>\n",
       "      <th></th>\n",
       "    </tr>\n",
       "  </thead>\n",
       "  <tbody>\n",
       "    <tr>\n",
       "      <th>2005-01-01 00:15:00</th>\n",
       "      <td>2005-01-01 00:15:00</td>\n",
       "      <td>9503607</td>\n",
       "    </tr>\n",
       "    <tr>\n",
       "      <th>2005-01-01 00:30:00</th>\n",
       "      <td>2005-01-01 00:30:00</td>\n",
       "      <td>9357379</td>\n",
       "    </tr>\n",
       "    <tr>\n",
       "      <th>2005-01-01 00:45:00</th>\n",
       "      <td>2005-01-01 00:45:00</td>\n",
       "      <td>9181671</td>\n",
       "    </tr>\n",
       "    <tr>\n",
       "      <th>2005-01-01 01:00:00</th>\n",
       "      <td>2005-01-01 01:00:00</td>\n",
       "      <td>9067683</td>\n",
       "    </tr>\n",
       "    <tr>\n",
       "      <th>2005-01-01 01:15:00</th>\n",
       "      <td>2005-01-01 01:15:00</td>\n",
       "      <td>9007000</td>\n",
       "    </tr>\n",
       "  </tbody>\n",
       "</table>\n",
       "</div>"
      ],
      "text/plain": [
       "                                   date    value\n",
       "date                                            \n",
       "2005-01-01 00:15:00 2005-01-01 00:15:00  9503607\n",
       "2005-01-01 00:30:00 2005-01-01 00:30:00  9357379\n",
       "2005-01-01 00:45:00 2005-01-01 00:45:00  9181671\n",
       "2005-01-01 01:00:00 2005-01-01 01:00:00  9067683\n",
       "2005-01-01 01:15:00 2005-01-01 01:15:00  9007000"
      ]
     },
     "execution_count": 108,
     "metadata": {},
     "output_type": "execute_result"
    }
   ],
   "source": [
    "def process_key(row, key):\n",
    "    hours, mins = [int(part.strip('\"')) for part in key.split(':')]\n",
    "    if hours == 24:\n",
    "        return datetime.datetime(row.yyyy, row.mm, row.dd, 0, mins) + timedelta(days=1)\n",
    "    else:\n",
    "        return datetime.datetime(row.yyyy, row.mm, row.dd, hours, mins)\n",
    "\n",
    "df = pd.DataFrame(columns=['date', 'value'])\n",
    "\n",
    "for file_name in glob.glob(\"./belgicko/*.csv\"):\n",
    "    data = pd.read_csv(file_name, sep=';', skiprows=0, header=1)\n",
    "    prev_value = 0\n",
    "    for row_index, row in data.iterrows():\n",
    "        for key in row.keys()[3:-5]:\n",
    "            date = process_key(row, key)\n",
    "            try:\n",
    "                value = float(row[key].replace(',','.'))\n",
    "                prev_value = value\n",
    "            except ValueError:\n",
    "                value = prev_value #aby mi nevznikali diery, tak nespravne sparsovane hodnoty nahradim predchadajucou hodnotou        \n",
    "            new_row = pd.Series([date, value], index=['date', 'value'])\n",
    "            df = df.append(new_row, ignore_index=True)\n",
    "df.index = df.date\n",
    "df.head()"
   ]
  },
  {
   "cell_type": "code",
   "execution_count": 109,
   "metadata": {
    "collapsed": false
   },
   "outputs": [
    {
     "data": {
      "text/plain": [
       "<matplotlib.axes.AxesSubplot at 0x7feffe4856d0>"
      ]
     },
     "execution_count": 109,
     "metadata": {},
     "output_type": "execute_result"
    },
    {
     "data": {
      "image/png": "[encoded data removed]",
      "text/plain": [
       "<matplotlib.figure.Figure at 0x7ff004500d50>"
      ]
     },
     "metadata": {},
     "output_type": "display_data"
    }
   ],
   "source": [
    "df.plot()"
   ]
  },
  {
   "cell_type": "code",
   "execution_count": 111,
   "metadata": {
    "collapsed": true
   },
   "outputs": [],
   "source": [
    "df = df.drop('date', 1)"
   ]
  },
  {
   "cell_type": "code",
   "execution_count": 112,
   "metadata": {
    "collapsed": true
   },
   "outputs": [],
   "source": [
    "df.to_csv('./belgicko.csv')"
   ]
  }
 ],
 "metadata": {
  "kernelspec": {
   "display_name": "Python 2",
   "language": "python",
   "name": "python2"
  },
  "language_info": {
   "codemirror_mode": {
    "name": "ipython",
    "version": 2
   },
   "file_extension": ".py",
   "mimetype": "text/x-python",
   "name": "python",
   "nbconvert_exporter": "python",
   "pygments_lexer": "ipython2",
   "version": "2.7.6"
  }
 },
 "nbformat": 4,
 "nbformat_minor": 0
}
